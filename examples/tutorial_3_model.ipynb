{
 "cells": [
  {
   "cell_type": "markdown",
   "id": "a5254da6-a371-4ead-aaa6-1ec8a3e662a9",
   "metadata": {},
   "source": [
    "# Tutorial of `fitburst` -- III: Generating Models"
   ]
  },
  {
   "cell_type": "markdown",
   "id": "d7d53683-c90e-4bbb-a713-876a797314e4",
   "metadata": {},
   "source": [
    "The goal of `fitburst` is to generate noiseless, best-fit representations of dynamic spectra (DSs). This process assumes an underlying model of the pulse shape while accounting for \"global\" effects like dispersion and scatter-broadening. To this end, the `fitburst` codebase offers the `SpectrumModeler` object to configure, update, and generate DS models assuming that the pulse has an intrinsically Gaussian shape. \n",
    "\n",
    "This tutorial demonstrates the use of the `SpectrumModeler` object."
   ]
  },
  {
   "cell_type": "markdown",
   "id": "bd69b2e2-faef-4ff2-952a-d90f2735cf61",
   "metadata": {},
   "source": [
    "## Step 1: load and/or generate data needed to define the DS. "
   ]
  },
  {
   "cell_type": "markdown",
   "id": "0ba5331e-dd2c-453e-bb34-541eb377692a",
   "metadata": {},
   "source": [
    "Let's say we want to generate a model of the example data set provided in this repository. This data set contains a bunch of information needed to specify a model (e.g., frequency/time resolution, etc.), and so we may as well load those data in here:"
   ]
  },
  {
   "cell_type": "code",
   "execution_count": 1,
   "id": "9be7a625-f6e3-4364-9cd8-cab085a2b3a8",
   "metadata": {},
   "outputs": [],
   "source": [
    "# import the necessary utilities.\n",
    "from fitburst.backend.generic import DataReader\n",
    "from fitburst.analysis.model import SpectrumModeler\n",
    "import matplotlib.pyplot as plt\n",
    "import numpy as np\n",
    "\n",
    "# initialize the DataReader object.\n",
    "input_file = \"./data_fitburst_CHIMEFRB_StokesI_FRB20220502B.npz\"\n",
    "data = DataReader(input_file)\n",
    "data.load_data()"
   ]
  },
  {
   "cell_type": "markdown",
   "id": "98bb2060-2373-43ca-8a30-e114f17804b9",
   "metadata": {},
   "source": [
    "Before moving on, it is important to note and emphasize: _the generation of DS models does not rely on the `DataReader` object._ We are merely making use of available data to generate a model, but we can instead simulate metadata and use the `SpectrumModeler` object without ever needing to rely on the `DataReader`. This independence allows for broader applications of `SpectrumModeler`, as will be shown in one or several companion notebooks that illustrate examples of its use."
   ]
  },
  {
   "cell_type": "markdown",
   "id": "f98b57c2-d6ad-4bc5-b5ae-f6dea5710cb6",
   "metadata": {},
   "source": [
    "## Step 2: instantiate and overload the `SpectrumModeler` object"
   ]
  },
  {
   "cell_type": "markdown",
   "id": "86ef300f-f638-4ab4-bd52-4331ee67a5cb",
   "metadata": {},
   "source": [
    "The `SpectrumModeler` needs at least three pieces of information to compute a model, but only requires two for instantiation of the object: the arrays that specify the values of frequency channels and time samples at which to evaluate the DS."
   ]
  },
  {
   "cell_type": "code",
   "execution_count": 3,
   "id": "f07b1bd8-ce55-4165-ae22-1547b026ac27",
   "metadata": {},
   "outputs": [],
   "source": [
    "# instantiate the DS-model object.\n",
    "model_obj = SpectrumModeler(data.freqs, data.times)"
   ]
  },
  {
   "cell_type": "markdown",
   "id": "f005e2dc-d4fa-4fe6-b80b-17ef8040c723",
   "metadata": {},
   "source": [
    "## Step 3: define the model parameters"
   ]
  },
  {
   "cell_type": "markdown",
   "id": "0afcdd13-78fc-4bc9-916c-83cea292721a",
   "metadata": {},
   "source": [
    "In order to fully determine a model, the `SpectrumModeler` object must be given a set values for the model parameters. This operation is currently done by (1) creating a Python dictionary of parameters, and then (2) supplying this dictionary to the instantiated `SpectrumModeler` object. For the first step, let's start with understanding what parameters are understood by the `SpectrumModeler`:"
   ]
  },
  {
   "cell_type": "code",
   "execution_count": 7,
   "id": "ef12b02c-4159-4682-a9c5-b9c0e35ba6d3",
   "metadata": {},
   "outputs": [
    {
     "name": "stdout",
     "output_type": "stream",
     "text": [
      "['amplitude', 'arrival_time', 'burst_width', 'dm', 'dm_index', 'scattering_timescale', 'scattering_index', 'spectral_index', 'spectral_running']\n"
     ]
    }
   ],
   "source": [
    "# print list of parameters understood by the SpectrumModeler\n",
    "print(model_obj.parameters)"
   ]
  },
  {
   "cell_type": "markdown",
   "id": "aea475a7-0757-4b3b-be53-c9841b7a9d90",
   "metadata": {},
   "source": [
    "These parameters match those that are described in the Fonseca et al. (2024) paper that describes `fitburst`, and are summarized on the [documentation page describing the `SpectrumModeler`](https://chimefrb.github.io/fitburst/usage/creating_models/#parameters-of-the-model-object). By definition, the `fitburst`-generic data file contains a full list of model parameters correspond to an initial guess or previous `fitburst` fit that generated the file: "
   ]
  },
  {
   "cell_type": "code",
   "execution_count": 8,
   "id": "217d4095-c7bd-454c-a371-76aa9a75579b",
   "metadata": {},
   "outputs": [
    {
     "name": "stdout",
     "output_type": "stream",
     "text": [
      "{'amplitude': [-0.4812764314320905],\n",
      " 'arrival_time': [1060314.803224573],\n",
      " 'burst_width': [0.00027258462551453457],\n",
      " 'dm': [623.684276828633],\n",
      " 'dm_index': [-2.0],\n",
      " 'ref_freq': [400.1953125],\n",
      " 'scattering_index': [-4.0],\n",
      " 'scattering_timescale': [0.0],\n",
      " 'spectral_index': [2.8705490561459213],\n",
      " 'spectral_running': [-15.86167822219646]}\n"
     ]
    }
   ],
   "source": [
    "# print parameters contained in the `DataReader` object.\n",
    "import pprint\n",
    "\n",
    "params = data.burst_parameters\n",
    "pprint.pprint(params)"
   ]
  },
  {
   "cell_type": "markdown",
   "id": "d67cfd23-6307-47c2-94be-5eeef1899419",
   "metadata": {},
   "source": [
    "Three things are worth noting about the `DataReader.burst_parameters` attribute:\n",
    "* the `amplitude` parameter represents the log base 10 of the actual amplitude of the signal, which is why the above value is negative;\n",
    "* all parameters are specified as Python lists of length equal to the number of burst \"components\" (i.e., distinct pulses) in the DS;\n",
    "* the `ref_freq` parameter represents the reference frequency for the \"running power law\" spectral energy distribution and is assumed to be a constant (**not fittable**)  parameter; it can be set to whatever value you'd like, but we recommend setting it to be a value within or at an edge of the data bandwidth."
   ]
  },
  {
   "cell_type": "markdown",
   "id": "53e1ecd9-5946-4dc6-97c1-673f17b34b02",
   "metadata": {},
   "source": [
    "## Step 4: overloading parameters into the `SpectrumModeler`"
   ]
  },
  {
   "cell_type": "markdown",
   "id": "679dede4-b10b-46ae-8686-0b80f98f76eb",
   "metadata": {},
   "source": [
    "Wit the above state, we can now overload the `SpectrumModeler` parameters with meaningful values (after making a few tweaks that will be explained in Step 6):"
   ]
  },
  {
   "cell_type": "code",
   "execution_count": 38,
   "id": "6228b48e-b7d8-4901-b860-efdac0730be7",
   "metadata": {},
   "outputs": [],
   "source": [
    "# tweak DM and arrival-time value before moving on.\n",
    "params[\"dm\"] = [0.]\n",
    "params[\"arrival_time\"] = [np.mean(data.times)]\n",
    "\n",
    "# overload parameter values into the SpectrumModel instance.\n",
    "model_obj.update_parameters(params)"
   ]
  },
  {
   "cell_type": "markdown",
   "id": "e839934b-4c03-4198-b8fb-cf02c1f54bf4",
   "metadata": {},
   "source": [
    "## Step 5: computing the model DS."
   ]
  },
  {
   "cell_type": "markdown",
   "id": "bbed8d26-36af-4cdf-ab45-ca7c7f73a34e",
   "metadata": {},
   "source": [
    "The model DS can now finally be computed by using the `compute_model()` method within the `SpectrumModeler` object:"
   ]
  },
  {
   "cell_type": "code",
   "execution_count": 39,
   "id": "7bbdd74a-29c6-4f7c-a79a-a1c40f519827",
   "metadata": {},
   "outputs": [
    {
     "name": "stdout",
     "output_type": "stream",
     "text": [
      "\n"
     ]
    },
    {
     "data": {
      "image/png": "[encoded data removed]",
      "text/plain": [
       "<Figure size 640x480 with 1 Axes>"
      ]
     },
     "metadata": {},
     "output_type": "display_data"
    }
   ],
   "source": [
    "# finally, compute a model.\n",
    "model = model_obj.compute_model()\n",
    "\n",
    "# now plot.\n",
    "plt.pcolormesh(data.times, data.freqs, model)\n",
    "plt.xlabel(\"Time [s]\")\n",
    "plt.ylabel(\"Frequency [MHz]\")\n",
    "plt.show()"
   ]
  },
  {
   "cell_type": "code",
   "execution_count": null,
   "id": "f71973a6-e4b8-471d-b9f0-f9afab0bfb2c",
   "metadata": {},
   "outputs": [],
   "source": []
  },
  {
   "cell_type": "markdown",
   "id": "5b1b43c0-8678-49bd-a9c0-c83f7c29ce13",
   "metadata": {},
   "source": [
    "## Step 6: updating model parameters."
   ]
  },
  {
   "cell_type": "markdown",
   "id": "08bd7cc0-7d46-47fc-b3b6-3a8280760c81",
   "metadata": {},
   "source": [
    "As mentioned in Step 4, we tweaked a couple of parameter values before creating the above model. These tweaks were done for two reasons:\n",
    "1. the `DataReader.times` array contains values of _relative_ time values in units of seconds, with the first value being equal to 0 s. However, the `DataReader.burst_parameters` has an _absolute\" value of `arrival_time` (also in units of seconds) that is specific to CHIME/FRB time-tagging. We could have adjusted the `DataReader.times` array by adding the absolute value of the first time bin that is stored in `DataReader.times_bin0` attribute, but we instead chose to keep a relative time above. (This choice is arbitrary and mainly done to make the x-axis of the above plot easier to read.) We therefore instead adjusted the `arrival_time` value to be in the middle of the `DataReader.times` array;\n",
    "2. the `DataReader.burst_parameters` attribute contains an absolute value of `dm`, whereas the data stored in `DataReader.data_full` data contain a de-dispersed spectrum as indicated by the `DataReader.is_dedipsersed` attribute:"
   ]
  },
  {
   "cell_type": "code",
   "execution_count": 34,
   "id": "9bf7b811-77c1-48dd-af5c-089b0a71ca77",
   "metadata": {},
   "outputs": [
    {
     "name": "stdout",
     "output_type": "stream",
     "text": [
      "The recorded spectrum is already dedispersed: True\n"
     ]
    }
   ],
   "source": [
    "# check if data are dedispersed.\n",
    "print(f\"The recorded spectrum is already dedispersed: {data.is_dedispersed}\")"
   ]
  },
  {
   "cell_type": "markdown",
   "id": "26194d44-49b1-47b3-9b96-3922635cb5e9",
   "metadata": {},
   "source": [
    "We therefore wanted to create a model of a dedispersed pulse, i.e., a pulse with DM = 0 pc/cc. \n",
    "\n",
    "However, let's say we were instead interested in computing a model for a pulse with the same parameters as above but with slight dispersion, say DM = 1.0 pc/cc. We can update the above instance of the `SpectrumModeler` for its values of DM:"
   ]
  },
  {
   "cell_type": "code",
   "execution_count": 40,
   "id": "26ae9139-2227-4619-9091-796529145385",
   "metadata": {},
   "outputs": [
    {
     "name": "stdout",
     "output_type": "stream",
     "text": [
      "\n"
     ]
    },
    {
     "data": {
      "image/png": "[encoded data removed]",
      "text/plain": [
       "<Figure size 640x480 with 2 Axes>"
      ]
     },
     "metadata": {},
     "output_type": "display_data"
    }
   ],
   "source": [
    "# change the DM values in the instantiated SpectrumModeler object.\n",
    "model_obj.update_parameters({\"dm\": [1.0]})\n",
    "model2 = model_obj.compute_model()\n",
    "\n",
    "# now plot.\n",
    "plt.subplot(1,2,1)\n",
    "plt.pcolormesh(data.times, data.freqs, model)\n",
    "plt.xlabel(\"Time [s]\")\n",
    "plt.ylabel(\"Frequency [MHz]\")\n",
    "plt.subplot(1,2,2)\n",
    "plt.pcolormesh(data.times, data.freqs, model2)\n",
    "plt.xlabel(\"Time [s]\")\n",
    "plt.show()"
   ]
  },
  {
   "cell_type": "code",
   "execution_count": null,
   "id": "46d92c43-3aa1-40bf-9916-57e462962239",
   "metadata": {},
   "outputs": [],
   "source": []
  }
 ],
 "metadata": {
  "kernelspec": {
   "display_name": "Python 3 (ipykernel)",
   "language": "python",
   "name": "python3"
  },
  "language_info": {
   "codemirror_mode": {
    "name": "ipython",
    "version": 3
   },
   "file_extension": ".py",
   "mimetype": "text/x-python",
   "name": "python",
   "nbconvert_exporter": "python",
   "pygments_lexer": "ipython3",
   "version": "3.11.3"
  }
 },
 "nbformat": 4,
 "nbformat_minor": 5
}
