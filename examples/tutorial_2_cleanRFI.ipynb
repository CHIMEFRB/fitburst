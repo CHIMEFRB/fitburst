{
 "cells": [
  {
   "cell_type": "markdown",
   "id": "a5254da6-a371-4ead-aaa6-1ec8a3e662a9",
   "metadata": {},
   "source": [
    "# Tutorial of `fitburst` -- II: Pre-processing your Data"
   ]
  },
  {
   "cell_type": "markdown",
   "id": "d7d53683-c90e-4bbb-a713-876a797314e4",
   "metadata": {},
   "source": [
    "For the purposes of model-fitting, it is crucial to ensure that your data are adequately prepared (or \"pre-processed\") in order to maximize the chance of convergence. The usual steps for pre-processing include baseline subtraction, normalization, and/or the removal of data corrupted by radio frequency interference (RFI). \n",
    "\n",
    "It is for this reason that `fitburst` is designed to require minimal-but-explicit invocation of a `preprocess_data()` method within the `DataReader` object. This method allows the user to produce a spectrum that is cleaned of RFI, along with metrics needed for downstream fitting, e.g., a mask of \"bad\" channels to ignore during the fitting procedure. The `preprocess_data()` method is currently configured to allow for flexible usage as demonstrated in this tutorial."
   ]
  },
  {
   "cell_type": "markdown",
   "id": "bd69b2e2-faef-4ff2-952a-d90f2735cf61",
   "metadata": {},
   "source": [
    "## Step 1: investigate the `DataReader.data_weights` attribute "
   ]
  },
  {
   "cell_type": "markdown",
   "id": "0ba5331e-dd2c-453e-bb34-541eb377692a",
   "metadata": {},
   "source": [
    "The `DataReader` object contains an attribute -- called `data_weights` -- that indicates the samples that are \"good\" (i.e., to be used for fitting) or \"bad.\""
   ]
  },
  {
   "cell_type": "code",
   "execution_count": 1,
   "id": "9be7a625-f6e3-4364-9cd8-cab085a2b3a8",
   "metadata": {},
   "outputs": [
    {
     "name": "stdout",
     "output_type": "stream",
     "text": [
      "data weights: [[1. 1. 1. ... 1. 1. 1.]\n",
      " [1. 1. 1. ... 1. 1. 1.]\n",
      " [1. 1. 1. ... 1. 1. 1.]\n",
      " ...\n",
      " [0. 0. 0. ... 0. 0. 0.]\n",
      " [0. 0. 0. ... 0. 0. 0.]\n",
      " [0. 0. 0. ... 0. 0. 0.]]\n",
      "size of data_full: (16384, 162)\n",
      "size of data_weights: (16384, 162)\n"
     ]
    }
   ],
   "source": [
    "# import the necessary utilities.\n",
    "from fitburst.backend.generic import DataReader\n",
    "import matplotlib.pyplot as plt\n",
    "import numpy as np\n",
    "\n",
    "# initialize the DataReader object.\n",
    "input_file = \"./data_fitburst_CHIMEFRB_StokesI_FRB20220502B.npz\"\n",
    "data = DataReader(input_file)\n",
    "data.load_data()\n",
    "\n",
    "# the spectrum-wide mask is contained in the 'data_weights' attribute; \n",
    "# print data.data_weights to see what the data look like.\n",
    "print(f\"data weights: {data.data_weights}\")\n",
    "print(f\"size of data_full: {data.data_full.shape}\")\n",
    "print(f\"size of data_weights: {data.data_full.shape}\")"
   ]
  },
  {
   "cell_type": "markdown",
   "id": "63cbfbdd-f288-41d6-b1ce-55c1aa82568a",
   "metadata": {},
   "source": [
    "The `data_weights` attribute contains 1s and 0s, indicating which data are usable (1) or bad (0)."
   ]
  },
  {
   "cell_type": "markdown",
   "id": "f98b57c2-d6ad-4bc5-b5ae-f6dea5710cb6",
   "metadata": {},
   "source": [
    "## Step 2: investigate the `DataReader.good_freq` attribute"
   ]
  },
  {
   "cell_type": "markdown",
   "id": "e7a9f773-4222-4cdc-9e2d-6bd25885ff4a",
   "metadata": {},
   "source": [
    "The `DataReader` contains a key attribute, called `good_freq`, that lists whether data within a specific frequency channel should be used for fitting or ignored. By default, this attribute is not overloaded when `load_data()` is executed:"
   ]
  },
  {
   "cell_type": "code",
   "execution_count": 2,
   "id": "ef12b02c-4159-4682-a9c5-b9c0e35ba6d3",
   "metadata": {},
   "outputs": [
    {
     "name": "stdout",
     "output_type": "stream",
     "text": [
      "None\n"
     ]
    }
   ],
   "source": [
    "print(data.good_freq)"
   ]
  },
  {
   "cell_type": "markdown",
   "id": "aea475a7-0757-4b3b-be53-c9841b7a9d90",
   "metadata": {},
   "source": [
    "It is natural to ask: _If it's so important, then why is `DataReader.good_freq` not initialized by default?_ \n",
    "\n",
    "The answer to this question may not be satisfying, but it's very important: if you want an adequate best-fit model, you must have a fairly robust understanding of your data prior to executing the fit routines. You must ensure that your data are baseline-subtracted, adequately normalized, and cleaned of any RFI-like signal you consider to be not a part of the signal you seek to model. From our experience, a significant number of unsuccessful `fitburst` fits arise due to one or more of the aforementioned operations not having been performed on the data."
   ]
  },
  {
   "cell_type": "markdown",
   "id": "53e1ecd9-5946-4dc6-97c1-673f17b34b02",
   "metadata": {},
   "source": [
    "## Step 3: execute the minimal form of the `DataReader.preprocess_data()` method"
   ]
  },
  {
   "cell_type": "markdown",
   "id": "cfaf4e56-f875-44b0-b6e1-e3944aa43061",
   "metadata": {},
   "source": [
    "We can now try using the built-in cleaning routines provided in the `DataReader.preprocess_data()` method."
   ]
  },
  {
   "cell_type": "code",
   "execution_count": 3,
   "id": "2a5e5324-a2c5-4574-9f4a-9e1a4f05e7f0",
   "metadata": {},
   "outputs": [
    {
     "name": "stdout",
     "output_type": "stream",
     "text": [
      "good_freq: None\n",
      "INFO: flagged and removed 5672 out of 16384 channels!\n",
      "good_freq: [ True  True  True ... False False False]\n"
     ]
    }
   ],
   "source": [
    "# before running, check and see what the good_freq attribute looks like.\n",
    "print(f\"good_freq: {data.good_freq}\")\n",
    "\n",
    "# now run the preprocessing step and print again.\n",
    "data.preprocess_data()\n",
    "print(f\"good_freq: {data.good_freq}\")"
   ]
  },
  {
   "cell_type": "markdown",
   "id": "ad9359d4-958f-4a90-bc5f-ce9328e52b9f",
   "metadata": {},
   "source": [
    "As can be seen above, the `preprocess_data()` method does something to initialize the `good_freq` attribute! \n",
    "\n",
    "However, we should understand what was specifically done to instantiate the `good_freq` attribute. When none of its options are used, the `preprocess_data()` method will only use the values in `data_weights` to determine which frequency channels are usable and which should be avoided. This operation amounts to flagging which channels contain only 0s in `data_weights`, which can be done by summing all `data_weights` values over the time axis (`axis=1`) and seeing which resultant values are 0. For example,"
   ]
  },
  {
   "cell_type": "code",
   "execution_count": 4,
   "id": "48c35657-3096-4f06-8c69-aceb023f1dcf",
   "metadata": {},
   "outputs": [
    {
     "name": "stdout",
     "output_type": "stream",
     "text": [
      "the good_freq arrays are indeed the same\n"
     ]
    }
   ],
   "source": [
    "# determine which channels have non-zero data in data_weights. \n",
    "is_freq_good = (data.data_weights.sum(axis=1) > 0)\n",
    "\n",
    "# just to be safe, make sure that this array matches the one generated by preprocess_data().\n",
    "if np.all(data.good_freq == is_freq_good):\n",
    "    print(\"the good_freq arrays are indeed the same\")"
   ]
  },
  {
   "cell_type": "markdown",
   "id": "3e446aa1-c62d-4fec-be44-8b3cd6634208",
   "metadata": {},
   "source": [
    "In principle, the default behavior of `preprocess_data()` allows for all control of RFI flagging to be given to the user: just define `data_weights` to your liking, call `preprocess_data`, and you're ready to go!"
   ]
  },
  {
   "cell_type": "markdown",
   "id": "d3ecafaa-0d17-4a20-b83c-975a561111f6",
   "metadata": {},
   "source": [
    "### Step 4: explore the options of `preprocess_data()`"
   ]
  },
  {
   "cell_type": "markdown",
   "id": "0401fdf1-deea-4958-97ba-72c756da050a",
   "metadata": {},
   "source": [
    "If you instead want to \"be safe\" and utilize other aspects of `preprocess_data()`, feel free to experiment with its options."
   ]
  },
  {
   "cell_type": "code",
   "execution_count": 5,
   "id": "99a0b772-a01b-47cd-ba66-88c95b8b60fe",
   "metadata": {
    "collapsed": true,
    "jupyter": {
     "outputs_hidden": true
    }
   },
   "outputs": [
    {
     "name": "stdout",
     "output_type": "stream",
     "text": [
      "Help on method preprocess_data in module fitburst.utilities.bases:\n",
      "\n",
      "preprocess_data(apply_cut_variance: bool = False, apply_cut_skewness: bool = False, normalize_variance: bool = True, remove_baseline: bool = False, skewness_range: list = [-3.0, 3.0], variance_range: list = [0.2, 0.8], variance_weight: float = 1.0) -> None method of fitburst.backend.generic.DataReader instance\n",
      "    Applies pre-fit routines for cleaning raw dynamic spectrum (e.g., RFI-masking,\n",
      "    baseline subtraction, normalization, etc.).\n",
      "    \n",
      "    Parameters\n",
      "    ----------\n",
      "    apply_cut_variance : bool, optional\n",
      "        if True, then update mask to exclude channels with variance values that exceed \n",
      "        the range specified in the 'variance_range' list\n",
      "    \n",
      "    apply_cut_skewness : bool, optional\n",
      "        if True, then update mask to exclude channels with skewness values that exceed \n",
      "        the range specified in the 'skewness_range' list\n",
      "    \n",
      "    normalize_variance: bool, optional\n",
      "        if true, then normalize variances relative to the largest value.\n",
      "    \n",
      "    skewness_range : list, optional\n",
      "        a two-element list containing the range of allowed values of skewness;\n",
      "        values outside of this range are flagged as RFI and removed from the data cube.\n",
      "    \n",
      "    remove_baseline : bool, optional\n",
      "        if True, then renormalize data and remove baseline\n",
      "    \n",
      "    variance_range : list, optional\n",
      "        a two-element list containing the range of allowed variances; values outside\n",
      "        of this range are flagged as RFI and removed from the data cube.\n",
      "    \n",
      "    variance_weigt : np.float, optional\n",
      "        a scaling factor applied to variance prior to exision.\n",
      "    \n",
      "    Returns\n",
      "    -------\n",
      "    self.good_freqs : np.ndarray\n",
      "        an array of boolean values indicating good frequencies.\n",
      "    \n",
      "    Notes\n",
      "    -----\n",
      "    This method normalizes and cleans the self.data_full cube.\n",
      "\n"
     ]
    }
   ],
   "source": [
    "# use the help() function to access info on options for methods and functions within fitburst.\n",
    "help(data.preprocess_data)"
   ]
  },
  {
   "cell_type": "code",
   "execution_count": null,
   "id": "ab6e6fd3-7f1e-4a55-8dfc-6ba3fb64c13e",
   "metadata": {},
   "outputs": [],
   "source": []
  }
 ],
 "metadata": {
  "kernelspec": {
   "display_name": "Python 3 (ipykernel)",
   "language": "python",
   "name": "python3"
  },
  "language_info": {
   "codemirror_mode": {
    "name": "ipython",
    "version": 3
   },
   "file_extension": ".py",
   "mimetype": "text/x-python",
   "name": "python",
   "nbconvert_exporter": "python",
   "pygments_lexer": "ipython3",
   "version": "3.11.3"
  }
 },
 "nbformat": 4,
 "nbformat_minor": 5
}
